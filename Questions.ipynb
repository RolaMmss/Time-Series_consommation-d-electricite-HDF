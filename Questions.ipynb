{
 "cells": [
  {
   "cell_type": "markdown",
   "metadata": {},
   "source": [
    "# <center><b> <em> Partie 3 - Questions </em> </b></center>"
   ]
  },
  {
   "cell_type": "markdown",
   "metadata": {},
   "source": [
    "## <font color=\"green\"> 3.1 Approche statistique avec statmodels</font>"
   ]
  },
  {
   "cell_type": "markdown",
   "metadata": {},
   "source": [
    "\n",
    "### 1. Sachant que les modèles ARIMA et SARIMA sont des régression linéaires qui prennent comme variables explicatives les “lags” (les états précédents) de notre time série. Pourquoi est-on si attaché au fait que notre série temporelle soit stationnaire?\n"
   ]
  },
  {
   "cell_type": "markdown",
   "metadata": {},
   "source": [
    "\n",
    "Nous savons que la régression linéaire fonctionne mieux lorsque les prédicteurs (variables X) ne sont pas corrélés entre eux et sont indépendants les uns des autres.. Ainsi, la stationnarisation de la série résout ce problème en éliminant toute autocorrélation persistante, ce qui rend les prédicteurs dans les modèles de prévision presque indépendants.\n"
   ]
  },
  {
   "cell_type": "markdown",
   "metadata": {},
   "source": [
    "### 2. Qu’est qu’un modèle AR, à quoi correspond le paramètre p ?\n"
   ]
  },
  {
   "cell_type": "markdown",
   "metadata": {},
   "source": [
    "Un modèle purement auto-régressif (AR) est un modèle où la série dépend uniquement de ses propres retards (la relation existante entre les observations actuelles et les observations passées). \n",
    "\n",
    "Le paramètre p est l'ordre du modèle AR (détecté par le nombre de retards (lags) de Y à utiliser comme prédicteurs).\n"
   ]
  },
  {
   "cell_type": "markdown",
   "metadata": {},
   "source": [
    "### 3. Qu’est ce qu’un modèle MA, à quoi correspond le paramètre q?\n"
   ]
  },
  {
   "cell_type": "markdown",
   "metadata": {},
   "source": [
    "Un modèle de Moyenne Mobile  (Moving Average MA) est un modèle dans lequel la série  dépend uniquement des erreurs de prévision retardées.\n",
    "\n",
    "Le paramètre q est l'ordre du modèle MA (nombre de retards des erreurs de prévision qui doivent entrer dans le modèle ARIMA). Elle est choisi par la taille des fenêtres de moyenne mobile.\n"
   ]
  },
  {
   "cell_type": "markdown",
   "metadata": {},
   "source": [
    "### 4. Qu’est ce que le modèle ARIMA et à quoi correspond le paramètre d?\n"
   ]
  },
  {
   "cell_type": "markdown",
   "metadata": {},
   "source": [
    "\n",
    "ARIMA est une extension d'ARMA qui inclut une composante d'intégration (I) pour traiter les données non stationnaires. Il est adapté aux séries temporelles qui nécessitent une différenciation de l’observation actuelle dans le cas de séries non stationnaires. \n",
    "\n",
    "Le paramètre  d est le nombre de différenciations nécessaires pour rendre la série temporelle stationnaire.\n"
   ]
  },
  {
   "cell_type": "markdown",
   "metadata": {},
   "source": [
    "### 5. Qu’est ce que le modèle SARIMA et à quoi correspond le paramètre s?\n"
   ]
  },
  {
   "cell_type": "markdown",
   "metadata": {},
   "source": [
    "SARIMA étend ARIMA pour tenir compte des saisons périodiques dans les données. Il inclut des termes saisonniers et est utile pour modéliser des séries temporelles saisonnières.\n",
    "\n",
    "Le paramètre s correspond à la période de saisonalité.\n"
   ]
  },
  {
   "cell_type": "markdown",
   "metadata": {},
   "source": [
    "### 6. Déterminer les paramètres s, d, q, p  à l’aide des graphiques d’autocorrélation et d’autocorrélation partielle, ainsi qu’à l’aide des graphiques de la première partie.\n",
    "* Déterminer d’abord s et appliquer la désaisonnalisation\n",
    "* Sur la série désaisonnalisée recherchez d et détrendez\n",
    "* Sur la série détrendée, recherchez q et p\n"
   ]
  },
  {
   "cell_type": "markdown",
   "metadata": {},
   "source": [
    "s = 365\n",
    "d = 1   :nombre de différenciations nécessaires pour rendre la série temporelle stationnaire\n",
    "Sur la série détrendée,q= 4 et p=1  "
   ]
  },
  {
   "cell_type": "markdown",
   "metadata": {},
   "source": [
    "### 7. A l’aide statmodels et dans une approche statistique (sans train/test/split), lancez un modèle ARIMA sur la série désaisonnalisée. \n",
    "* Est ce que tous les paramètres sont significatifs\n",
    "* Qu’est ce que l’AIC?\n",
    "* Essayez d’améliorer votre modèle en modifiant les paramètres non significatifs et en vous basant sur le critère de l’AIC.\n"
   ]
  },
  {
   "cell_type": "markdown",
   "metadata": {},
   "source": [
    "* Non pas tous les paramètres sont significatifs. on voit que la première variable n'est pas statistiquement significatif et peut être omis du modèle pour simplifier celui-ci. Cette vaiable represente la premier coefficient de AR.  (sa valeur de P>|z| est > 0.05)\n",
    "* L'AIC (Critère d'Information d'Akaike) est une mesure de la qualité d'ajustement d'un modèle statistique. Il est basé sur la fonction de vraisemblance du modèle et pénalise les modèles qui ont un grand nombre de paramètres. L'objectif est de trouver un équilibre entre la précision du modèle et sa complexité. Un modèle avec un AIC plus bas est généralement considéré comme meilleur.\n",
    "* meilleurs paramètres pour ARIM sont: p, d, q = 3, 2, 3 "
   ]
  },
  {
   "cell_type": "markdown",
   "metadata": {},
   "source": []
  }
 ],
 "metadata": {
  "language_info": {
   "name": "python"
  },
  "orig_nbformat": 4
 },
 "nbformat": 4,
 "nbformat_minor": 2
}
