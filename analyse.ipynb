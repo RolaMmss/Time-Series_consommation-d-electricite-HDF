{
 "cells": [
  {
   "cell_type": "markdown",
   "metadata": {},
   "source": [
    "# <center><b> <em> Data Preprocessing </em> </b></center>"
   ]
  },
  {
   "cell_type": "markdown",
   "metadata": {},
   "source": [
    "## <font color=\"green\"> | - Import des Biblio et Dataframe</font>"
   ]
  },
  {
   "cell_type": "code",
   "execution_count": 12,
   "metadata": {},
   "outputs": [],
   "source": [
    "import pandas as pd\n",
    "import matplotlib.pyplot as plt\n",
    "import seaborn as sns\n",
    "import re\n",
    "import numpy as np"
   ]
  },
  {
   "cell_type": "code",
   "execution_count": 13,
   "metadata": {},
   "outputs": [],
   "source": [
    "# Read the XLSX file\n",
    "data = pd.read_csv(\"data/bronze.csv\",delimiter=\";\")"
   ]
  },
  {
   "cell_type": "markdown",
   "metadata": {},
   "source": [
    "## Details\n",
    "Créée le 24 mars 2018\n",
    "\n",
    "Modifiée le 9 mai 2023\n",
    "\n",
    "Description du fichier\n",
    "\n",
    "Date - Heure: date_heure[datetime]\n",
    "\n",
    "Date: date[date]\n",
    "\n",
    "Heure: heure[text]\n",
    "\n",
    "Code INSEE région: code_insee_region[text]\n",
    "\n",
    "Région: region[text]\n",
    "\n",
    "Consommation brute gaz (MW PCS 0°C) - GRTgaz: consommation_brute_gaz_grtgaz[int] Consommation brute régionale de gaz au pas horaire en MW PCS 0°C au périmètre GRTgaz\n",
    "\n",
    "Statut - GRTgaz: statut_grtgaz[text]\n",
    "\n",
    "Consommation brute gaz (MW PCS 0°C) - Teréga: consommation_brute_gaz_terega[int] Consommation brute régionale de gaz au pas horaire en MW PCS 0°C au périmètre Teréga\n",
    "\n",
    "Statut - Teréga: statut_terega[text]\n",
    "\n",
    "Consommation brute gaz totale (MW PCS 0°C): consommation_brute_gaz_totale[int] Consommation brute régionale de gaz au pas horaire en MW PCS 0°C\n",
    "\n",
    "Consommation brute électricité (MW) - RTE: consommation_brute_electricite_rte[int] Consommation brute régionale d’électricité au pas 30 minutes en MW\n",
    "\n",
    "Statut - RTE: statut_rte[text]\n",
    "\n",
    "\n",
    "Consommation brute totale (MW): consommation_brute_totale[int] Consommation brute régionale totale au pas horaire en MW"
   ]
  },
  {
   "cell_type": "code",
   "execution_count": 14,
   "metadata": {},
   "outputs": [
    {
     "data": {
      "text/html": [
       "<div>\n",
       "<style scoped>\n",
       "    .dataframe tbody tr th:only-of-type {\n",
       "        vertical-align: middle;\n",
       "    }\n",
       "\n",
       "    .dataframe tbody tr th {\n",
       "        vertical-align: top;\n",
       "    }\n",
       "\n",
       "    .dataframe thead th {\n",
       "        text-align: right;\n",
       "    }\n",
       "</style>\n",
       "<table border=\"1\" class=\"dataframe\">\n",
       "  <thead>\n",
       "    <tr style=\"text-align: right;\">\n",
       "      <th></th>\n",
       "      <th>date_heure</th>\n",
       "      <th>date</th>\n",
       "      <th>heure</th>\n",
       "      <th>code_insee_region</th>\n",
       "      <th>region</th>\n",
       "      <th>consommation_brute_gaz_grtgaz</th>\n",
       "      <th>statut_grtgaz</th>\n",
       "      <th>consommation_brute_gaz_terega</th>\n",
       "      <th>statut_terega</th>\n",
       "      <th>consommation_brute_gaz_totale</th>\n",
       "      <th>consommation_brute_electricite_rte</th>\n",
       "      <th>statut_rte</th>\n",
       "      <th>consommation_brute_totale</th>\n",
       "    </tr>\n",
       "  </thead>\n",
       "  <tbody>\n",
       "    <tr>\n",
       "      <th>0</th>\n",
       "      <td>2013-01-21T09:00:00+01:00</td>\n",
       "      <td>2013-01-21</td>\n",
       "      <td>09:00</td>\n",
       "      <td>11</td>\n",
       "      <td>Île-de-France</td>\n",
       "      <td>4129.0</td>\n",
       "      <td>Définitif</td>\n",
       "      <td>NaN</td>\n",
       "      <td>NaN</td>\n",
       "      <td>4129.0</td>\n",
       "      <td>13610</td>\n",
       "      <td>Définitif</td>\n",
       "      <td>17739.0</td>\n",
       "    </tr>\n",
       "    <tr>\n",
       "      <th>1</th>\n",
       "      <td>2013-01-21T09:00:00+01:00</td>\n",
       "      <td>2013-01-21</td>\n",
       "      <td>09:00</td>\n",
       "      <td>24</td>\n",
       "      <td>Centre-Val de Loire</td>\n",
       "      <td>4871.0</td>\n",
       "      <td>Définitif</td>\n",
       "      <td>NaN</td>\n",
       "      <td>NaN</td>\n",
       "      <td>4871.0</td>\n",
       "      <td>3589</td>\n",
       "      <td>Définitif</td>\n",
       "      <td>8460.0</td>\n",
       "    </tr>\n",
       "    <tr>\n",
       "      <th>2</th>\n",
       "      <td>2013-01-21T09:00:00+01:00</td>\n",
       "      <td>2013-01-21</td>\n",
       "      <td>09:00</td>\n",
       "      <td>44</td>\n",
       "      <td>Grand Est</td>\n",
       "      <td>17598.0</td>\n",
       "      <td>Définitif</td>\n",
       "      <td>NaN</td>\n",
       "      <td>NaN</td>\n",
       "      <td>17598.0</td>\n",
       "      <td>7306</td>\n",
       "      <td>Définitif</td>\n",
       "      <td>24904.0</td>\n",
       "    </tr>\n",
       "    <tr>\n",
       "      <th>3</th>\n",
       "      <td>2013-01-21T09:00:00+01:00</td>\n",
       "      <td>2013-01-21</td>\n",
       "      <td>09:00</td>\n",
       "      <td>76</td>\n",
       "      <td>Occitanie</td>\n",
       "      <td>2036.0</td>\n",
       "      <td>Définitif</td>\n",
       "      <td>4376.0</td>\n",
       "      <td>Définitif</td>\n",
       "      <td>6412.0</td>\n",
       "      <td>6722</td>\n",
       "      <td>Définitif</td>\n",
       "      <td>13134.0</td>\n",
       "    </tr>\n",
       "    <tr>\n",
       "      <th>4</th>\n",
       "      <td>2013-01-21T09:00:00+01:00</td>\n",
       "      <td>2013-01-21</td>\n",
       "      <td>09:00</td>\n",
       "      <td>84</td>\n",
       "      <td>Auvergne-Rhône-Alpes</td>\n",
       "      <td>14353.0</td>\n",
       "      <td>Définitif</td>\n",
       "      <td>94.0</td>\n",
       "      <td>Définitif</td>\n",
       "      <td>14447.0</td>\n",
       "      <td>10986</td>\n",
       "      <td>Définitif</td>\n",
       "      <td>25433.0</td>\n",
       "    </tr>\n",
       "  </tbody>\n",
       "</table>\n",
       "</div>"
      ],
      "text/plain": [
       "                  date_heure        date  heure  code_insee_region  \\\n",
       "0  2013-01-21T09:00:00+01:00  2013-01-21  09:00                 11   \n",
       "1  2013-01-21T09:00:00+01:00  2013-01-21  09:00                 24   \n",
       "2  2013-01-21T09:00:00+01:00  2013-01-21  09:00                 44   \n",
       "3  2013-01-21T09:00:00+01:00  2013-01-21  09:00                 76   \n",
       "4  2013-01-21T09:00:00+01:00  2013-01-21  09:00                 84   \n",
       "\n",
       "                 region  consommation_brute_gaz_grtgaz statut_grtgaz  \\\n",
       "0         Île-de-France                         4129.0     Définitif   \n",
       "1   Centre-Val de Loire                         4871.0     Définitif   \n",
       "2             Grand Est                        17598.0     Définitif   \n",
       "3             Occitanie                         2036.0     Définitif   \n",
       "4  Auvergne-Rhône-Alpes                        14353.0     Définitif   \n",
       "\n",
       "   consommation_brute_gaz_terega statut_terega  consommation_brute_gaz_totale  \\\n",
       "0                            NaN           NaN                         4129.0   \n",
       "1                            NaN           NaN                         4871.0   \n",
       "2                            NaN           NaN                        17598.0   \n",
       "3                         4376.0     Définitif                         6412.0   \n",
       "4                           94.0     Définitif                        14447.0   \n",
       "\n",
       "   consommation_brute_electricite_rte statut_rte  consommation_brute_totale  \n",
       "0                               13610  Définitif                    17739.0  \n",
       "1                                3589  Définitif                     8460.0  \n",
       "2                                7306  Définitif                    24904.0  \n",
       "3                                6722  Définitif                    13134.0  \n",
       "4                               10986  Définitif                    25433.0  "
      ]
     },
     "execution_count": 14,
     "metadata": {},
     "output_type": "execute_result"
    }
   ],
   "source": [
    "data.head()"
   ]
  },
  {
   "cell_type": "code",
   "execution_count": 15,
   "metadata": {},
   "outputs": [
    {
     "name": "stdout",
     "output_type": "stream",
     "text": [
      "<class 'pandas.core.frame.DataFrame'>\n",
      "RangeIndex: 2207796 entries, 0 to 2207795\n",
      "Data columns (total 13 columns):\n",
      " #   Column                              Dtype  \n",
      "---  ------                              -----  \n",
      " 0   date_heure                          object \n",
      " 1   date                                object \n",
      " 2   heure                               object \n",
      " 3   code_insee_region                   int64  \n",
      " 4   region                              object \n",
      " 5   consommation_brute_gaz_grtgaz       float64\n",
      " 6   statut_grtgaz                       object \n",
      " 7   consommation_brute_gaz_terega       float64\n",
      " 8   statut_terega                       object \n",
      " 9   consommation_brute_gaz_totale       float64\n",
      " 10  consommation_brute_electricite_rte  int64  \n",
      " 11  statut_rte                          object \n",
      " 12  consommation_brute_totale           float64\n",
      "dtypes: float64(4), int64(2), object(7)\n",
      "memory usage: 219.0+ MB\n"
     ]
    }
   ],
   "source": [
    "data.info()"
   ]
  },
  {
   "cell_type": "code",
   "execution_count": 16,
   "metadata": {},
   "outputs": [
    {
     "data": {
      "text/plain": [
       "(2207796, 13)"
      ]
     },
     "execution_count": 16,
     "metadata": {},
     "output_type": "execute_result"
    }
   ],
   "source": [
    "data.shape"
   ]
  },
  {
   "cell_type": "code",
   "execution_count": 18,
   "metadata": {},
   "outputs": [
    {
     "name": "stdout",
     "output_type": "stream",
     "text": [
      "Déja 1694422865.9351199 secondes de passées depuis le 1er janvier 1970\n"
     ]
    }
   ],
   "source": [
    "import time\n",
    "\n",
    "print(f\"Déja {time.time()} secondes de passées depuis le 1er janvier 1970\")"
   ]
  },
  {
   "cell_type": "markdown",
   "metadata": {},
   "source": [
    "## <font color=\"green\"> || - Missing Data </font>"
   ]
  },
  {
   "cell_type": "code",
   "execution_count": 19,
   "metadata": {},
   "outputs": [
    {
     "data": {
      "image/png": "[encoded data removed]",
      "text/plain": [
       "<Figure size 640x480 with 1 Axes>"
      ]
     },
     "metadata": {},
     "output_type": "display_data"
    }
   ],
   "source": [
    "# Create a figure and axes for the plot\n",
    "fig, ax = plt.subplots()\n",
    "sns.heatmap(data.isnull(), ax=ax, yticklabels=False, cbar=False, cmap=\"Blues\")\n",
    "ax.set_title(\"Heatmap of Missing Values\")\n",
    "plt.show()"
   ]
  },
  {
   "cell_type": "code",
   "execution_count": 20,
   "metadata": {},
   "outputs": [
    {
     "data": {
      "text/plain": [
       "date_heure                                  0\n",
       "date                                        0\n",
       "heure                                       0\n",
       "code_insee_region                           0\n",
       "region                                      0\n",
       "consommation_brute_gaz_grtgaz         1121532\n",
       "statut_grtgaz                         1103964\n",
       "consommation_brute_gaz_terega         1931823\n",
       "statut_terega                         1931822\n",
       "consommation_brute_gaz_totale         1121533\n",
       "consommation_brute_electricite_rte          0\n",
       "statut_rte                                  0\n",
       "consommation_brute_totale             1121533\n",
       "dtype: int64"
      ]
     },
     "execution_count": 20,
     "metadata": {},
     "output_type": "execute_result"
    }
   ],
   "source": [
    "data.isnull().sum()"
   ]
  },
  {
   "cell_type": "code",
   "execution_count": 21,
   "metadata": {},
   "outputs": [
    {
     "ename": "KeyError",
     "evalue": "'acteurs'",
     "output_type": "error",
     "traceback": [
      "\u001b[0;31m---------------------------------------------------------------------------\u001b[0m",
      "\u001b[0;31mKeyError\u001b[0m                                  Traceback (most recent call last)",
      "File \u001b[0;32m~/miniconda3/envs/myenv/lib/python3.10/site-packages/pandas/core/indexes/base.py:3653\u001b[0m, in \u001b[0;36mIndex.get_loc\u001b[0;34m(self, key)\u001b[0m\n\u001b[1;32m   3652\u001b[0m \u001b[39mtry\u001b[39;00m:\n\u001b[0;32m-> 3653\u001b[0m     \u001b[39mreturn\u001b[39;00m \u001b[39mself\u001b[39;49m\u001b[39m.\u001b[39;49m_engine\u001b[39m.\u001b[39;49mget_loc(casted_key)\n\u001b[1;32m   3654\u001b[0m \u001b[39mexcept\u001b[39;00m \u001b[39mKeyError\u001b[39;00m \u001b[39mas\u001b[39;00m err:\n",
      "File \u001b[0;32m~/miniconda3/envs/myenv/lib/python3.10/site-packages/pandas/_libs/index.pyx:147\u001b[0m, in \u001b[0;36mpandas._libs.index.IndexEngine.get_loc\u001b[0;34m()\u001b[0m\n",
      "File \u001b[0;32m~/miniconda3/envs/myenv/lib/python3.10/site-packages/pandas/_libs/index.pyx:176\u001b[0m, in \u001b[0;36mpandas._libs.index.IndexEngine.get_loc\u001b[0;34m()\u001b[0m\n",
      "File \u001b[0;32mpandas/_libs/hashtable_class_helper.pxi:7080\u001b[0m, in \u001b[0;36mpandas._libs.hashtable.PyObjectHashTable.get_item\u001b[0;34m()\u001b[0m\n",
      "File \u001b[0;32mpandas/_libs/hashtable_class_helper.pxi:7088\u001b[0m, in \u001b[0;36mpandas._libs.hashtable.PyObjectHashTable.get_item\u001b[0;34m()\u001b[0m\n",
      "\u001b[0;31mKeyError\u001b[0m: 'acteurs'",
      "\nThe above exception was the direct cause of the following exception:\n",
      "\u001b[0;31mKeyError\u001b[0m                                  Traceback (most recent call last)",
      "Cell \u001b[0;32mIn[21], line 2\u001b[0m\n\u001b[1;32m      1\u001b[0m \u001b[39m# Afficher les lignes contenant des NaN dans le DataFrame\u001b[39;00m\n\u001b[0;32m----> 2\u001b[0m lignes_nan \u001b[39m=\u001b[39m data[data[\u001b[39m'\u001b[39;49m\u001b[39macteurs\u001b[39;49m\u001b[39m'\u001b[39;49m]\u001b[39m.\u001b[39misnull()]\n\u001b[1;32m      3\u001b[0m lignes_nan\u001b[39m.\u001b[39mhead()\n",
      "File \u001b[0;32m~/miniconda3/envs/myenv/lib/python3.10/site-packages/pandas/core/frame.py:3761\u001b[0m, in \u001b[0;36mDataFrame.__getitem__\u001b[0;34m(self, key)\u001b[0m\n\u001b[1;32m   3759\u001b[0m \u001b[39mif\u001b[39;00m \u001b[39mself\u001b[39m\u001b[39m.\u001b[39mcolumns\u001b[39m.\u001b[39mnlevels \u001b[39m>\u001b[39m \u001b[39m1\u001b[39m:\n\u001b[1;32m   3760\u001b[0m     \u001b[39mreturn\u001b[39;00m \u001b[39mself\u001b[39m\u001b[39m.\u001b[39m_getitem_multilevel(key)\n\u001b[0;32m-> 3761\u001b[0m indexer \u001b[39m=\u001b[39m \u001b[39mself\u001b[39;49m\u001b[39m.\u001b[39;49mcolumns\u001b[39m.\u001b[39;49mget_loc(key)\n\u001b[1;32m   3762\u001b[0m \u001b[39mif\u001b[39;00m is_integer(indexer):\n\u001b[1;32m   3763\u001b[0m     indexer \u001b[39m=\u001b[39m [indexer]\n",
      "File \u001b[0;32m~/miniconda3/envs/myenv/lib/python3.10/site-packages/pandas/core/indexes/base.py:3655\u001b[0m, in \u001b[0;36mIndex.get_loc\u001b[0;34m(self, key)\u001b[0m\n\u001b[1;32m   3653\u001b[0m     \u001b[39mreturn\u001b[39;00m \u001b[39mself\u001b[39m\u001b[39m.\u001b[39m_engine\u001b[39m.\u001b[39mget_loc(casted_key)\n\u001b[1;32m   3654\u001b[0m \u001b[39mexcept\u001b[39;00m \u001b[39mKeyError\u001b[39;00m \u001b[39mas\u001b[39;00m err:\n\u001b[0;32m-> 3655\u001b[0m     \u001b[39mraise\u001b[39;00m \u001b[39mKeyError\u001b[39;00m(key) \u001b[39mfrom\u001b[39;00m \u001b[39merr\u001b[39;00m\n\u001b[1;32m   3656\u001b[0m \u001b[39mexcept\u001b[39;00m \u001b[39mTypeError\u001b[39;00m:\n\u001b[1;32m   3657\u001b[0m     \u001b[39m# If we have a listlike key, _check_indexing_error will raise\u001b[39;00m\n\u001b[1;32m   3658\u001b[0m     \u001b[39m#  InvalidIndexError. Otherwise we fall through and re-raise\u001b[39;00m\n\u001b[1;32m   3659\u001b[0m     \u001b[39m#  the TypeError.\u001b[39;00m\n\u001b[1;32m   3660\u001b[0m     \u001b[39mself\u001b[39m\u001b[39m.\u001b[39m_check_indexing_error(key)\n",
      "\u001b[0;31mKeyError\u001b[0m: 'acteurs'"
     ]
    }
   ],
   "source": [
    "# Afficher les lignes contenant des NaN dans le DataFrame\n",
    "lignes_nan = data[data['acteurs'].isnull()]\n",
    "lignes_nan.head()"
   ]
  },
  {
   "cell_type": "code",
   "execution_count": null,
   "metadata": {},
   "outputs": [],
   "source": []
  }
 ],
 "metadata": {
  "kernelspec": {
   "display_name": "machine_learning",
   "language": "python",
   "name": "python3"
  },
  "language_info": {
   "codemirror_mode": {
    "name": "ipython",
    "version": 3
   },
   "file_extension": ".py",
   "mimetype": "text/x-python",
   "name": "python",
   "nbconvert_exporter": "python",
   "pygments_lexer": "ipython3",
   "version": "3.10.12"
  },
  "orig_nbformat": 4
 },
 "nbformat": 4,
 "nbformat_minor": 2
}
