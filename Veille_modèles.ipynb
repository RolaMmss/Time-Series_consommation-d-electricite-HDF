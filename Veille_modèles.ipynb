{
 "cells": [
  {
   "cell_type": "markdown",
   "metadata": {},
   "source": [
    "# <center><b> <em> Veille sur les Modèles de Time Series pour la Prédiction de la Consommation Électrique dans les Hauts-de-France  </em> </b></center>"
   ]
  },
  {
   "cell_type": "markdown",
   "metadata": {},
   "source": [
    "## <font color=\"green\"> 1. Introduction </font>\n",
    "La prédiction de la consommation électrique à court terme est cruciale pour optimiser la gestion de l'énergie et garantir un approvisionnement efficace. Dans le contexte professionnel d'un fournisseur d'électricité opérant dans la région des Hauts-de-France, nous avons identifié plusieurs modèles de séries temporelles et d'apprentissage automatique qui peuvent être utilisés pour réaliser cette prédiction. Ces modèles incluent ARMA, ARIMA, SARIMA, VARIMAX, Prophet et XGBoost.\n",
    "\n"
   ]
  },
  {
   "cell_type": "markdown",
   "metadata": {},
   "source": [
    "## <font color=\"green\"> 1. ARIMA (AutoRegressive Integrated Moving Average) </font>\n",
    "\n"
   ]
  },
  {
   "cell_type": "markdown",
   "metadata": {},
   "source": [
    "* ARIMA est l'un des modèles de séries temporelles les plus classiques et largement utilisés.\n",
    "* Il se compose de trois composantes : l'autorégression (AR), l'intégration (I) et la moyenne mobile (MA).\n",
    "* ARIMA est efficace pour modéliser des séries temporelles stationnaires."
   ]
  },
  {
   "cell_type": "markdown",
   "metadata": {},
   "source": [
    "## <font color=\"green\"> 2. SARIMA (Seasonal AutoRegressive Integrated Moving Average) : </font>\n"
   ]
  },
  {
   "cell_type": "markdown",
   "metadata": {},
   "source": [
    "* SARIMA étend le modèle ARIMA pour tenir compte des composantes saisonnières des données.\n",
    "* Il ajoute des termes saisonniers aux composantes ARIMA pour gérer les tendances saisonnières."
   ]
  },
  {
   "cell_type": "markdown",
   "metadata": {},
   "source": [
    "## <font color=\"green\"> 3. VARIMAX (Vector AutoRegressive Integrated Moving Average with Exogenous Variables) : </font>\n"
   ]
  },
  {
   "cell_type": "markdown",
   "metadata": {},
   "source": [
    "* VARIMAX est une extension de SARIMA qui permet d'inclure des variables exogènes pour améliorer la précision des prévisions.\n",
    "* Il peut être utile lorsque des facteurs externes influencent la série temporelle."
   ]
  },
  {
   "cell_type": "markdown",
   "metadata": {},
   "source": [
    "## <font color=\"green\"> 4. Prophet : </font>\n"
   ]
  },
  {
   "cell_type": "markdown",
   "metadata": {},
   "source": [
    "* Prophet est un modèle de séries temporelles développé par Facebook.\n",
    "* Il est conçu pour gérer des séries temporelles avec des tendances saisonnières, des vacances et des événements exceptionnels.\n",
    "* Prophet est facile à utiliser et peut gérer des données manquantes."
   ]
  },
  {
   "cell_type": "markdown",
   "metadata": {},
   "source": [
    "## <font color=\"green\"> 5. XGBoost (eXtreme Gradient Boosting) : </font>\n"
   ]
  },
  {
   "cell_type": "markdown",
   "metadata": {},
   "source": [
    "* XGBoost est un algorithme d'apprentissage automatique qui peut être utilisé pour la prévision de séries temporelles.\n",
    "* Il est basé sur des arbres de décision et est efficace pour capturer des relations non linéaires dans les données."
   ]
  },
  {
   "cell_type": "markdown",
   "metadata": {},
   "source": []
  }
 ],
 "metadata": {
  "kernelspec": {
   "display_name": "myenv",
   "language": "python",
   "name": "python3"
  },
  "language_info": {
   "codemirror_mode": {
    "name": "ipython",
    "version": 3
   },
   "file_extension": ".py",
   "mimetype": "text/x-python",
   "name": "python",
   "nbconvert_exporter": "python",
   "pygments_lexer": "ipython3",
   "version": "3.10.12"
  },
  "orig_nbformat": 4
 },
 "nbformat": 4,
 "nbformat_minor": 2
}
